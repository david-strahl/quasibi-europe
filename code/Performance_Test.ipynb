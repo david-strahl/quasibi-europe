{
 "cells": [
  {
   "cell_type": "code",
   "execution_count": 1,
   "id": "0f45fbd2-76db-4e1f-afb1-8799bd7292d6",
   "metadata": {},
   "outputs": [],
   "source": [
    "import numpy as np\n",
    "import scipy as sp\n",
    "import importlib\n",
    "import quasibi\n",
    "from sklearn.metrics import pairwise_distances\n",
    "importlib.reload(quasibi)\n",
    "\n",
    "import matplotlib.pyplot as plt"
   ]
  },
  {
   "cell_type": "code",
   "execution_count": 3,
   "id": "d248ee3c-7bab-4217-85f4-446e51320942",
   "metadata": {},
   "outputs": [],
   "source": [
    "ys = np.random.random(size=(100, 26))"
   ]
  },
  {
   "cell_type": "code",
   "execution_count": 6,
   "id": "4f87a7bc-1d99-4e10-be5f-6ce871b5bbe3",
   "metadata": {},
   "outputs": [
    {
     "name": "stdout",
     "output_type": "stream",
     "text": [
      "964 µs ± 32.2 µs per loop (mean ± std. dev. of 7 runs, 1,000 loops each)\n"
     ]
    }
   ],
   "source": [
    "%%timeit\n",
    "quasibi.pearson(ys[0], ys[1])"
   ]
  },
  {
   "cell_type": "code",
   "execution_count": 7,
   "id": "74cf1053-2411-4f07-8bfe-2ef4c89decec",
   "metadata": {},
   "outputs": [
    {
     "name": "stdout",
     "output_type": "stream",
     "text": [
      "622 µs ± 23.2 µs per loop (mean ± std. dev. of 7 runs, 1,000 loops each)\n"
     ]
    }
   ],
   "source": [
    "%%timeit\n",
    "quasibi.rmd(ys[0], ys[1])"
   ]
  },
  {
   "cell_type": "code",
   "execution_count": 8,
   "id": "27ecafa6-6000-4b63-b808-e36e58defbde",
   "metadata": {},
   "outputs": [
    {
     "name": "stdout",
     "output_type": "stream",
     "text": [
      "25 by 40 grid\n",
      "1000 nodes\n",
      "499500.0 links\n",
      "Runtime for Pearson:\t 0:08:19.500000\n",
      "Runtime for RMD:\t 0:08:19.500000\n",
      "File size:\t 1.9054412841796875\n"
     ]
    }
   ],
   "source": [
    "import datetime\n",
    "\n",
    "r_pearson = 1e-3 #  1ms\n",
    "r_rmd     = 1e-3 # 12ms\n",
    "\n",
    "X, Y = 25, 40\n",
    "N = X*Y\n",
    "L = N*(N-1)/2\n",
    "print(f\"{X} by {Y} grid\")\n",
    "print(f\"{N} nodes\")\n",
    "print(f\"{L} links\")\n",
    "print(f\"Runtime for Pearson:\\t {datetime.timedelta(seconds=L*r_pearson)}\")\n",
    "print(f\"Runtime for RMD:\\t {datetime.timedelta(seconds=L*r_rmd)}\")\n",
    "print(f\"File size:\\t {L*4/1024/1024}\")"
   ]
  }
 ],
 "metadata": {
  "kernelspec": {
   "display_name": "Python 3 (ipykernel)",
   "language": "python",
   "name": "python3"
  },
  "language_info": {
   "codemirror_mode": {
    "name": "ipython",
    "version": 3
   },
   "file_extension": ".py",
   "mimetype": "text/x-python",
   "name": "python",
   "nbconvert_exporter": "python",
   "pygments_lexer": "ipython3",
   "version": "3.10.9"
  }
 },
 "nbformat": 4,
 "nbformat_minor": 5
}
