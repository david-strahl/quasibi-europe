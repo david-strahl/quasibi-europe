{
 "cells": [
  {
   "cell_type": "code",
   "execution_count": 131,
   "id": "f1b3f0e3-ef77-4c17-bb0c-90c1690c6335",
   "metadata": {},
   "outputs": [],
   "source": [
    "import quasibi\n",
    "import importlib\n",
    "import numpy as np\n",
    "import xarray as xa\n",
    "import matplotlib.pyplot as plt\n",
    "from tqdm import tqdm\n",
    "from sklearn.metrics import pairwise_distances\n",
    "importlib.reload(quasibi);"
   ]
  },
  {
   "cell_type": "markdown",
   "source": [
    "# Dynamic Pearson Correlation Coefficients\n",
    "\n",
    "This script will calculate the dynamic Pearson correlation coefficients for disjoint one-year windows of the time series."
   ],
   "metadata": {
    "collapsed": false
   }
  },
  {
   "cell_type": "code",
   "execution_count": null,
   "id": "c363c360-42af-4feb-81d9-d251d0ff9ebe",
   "metadata": {},
   "outputs": [],
   "source": [
    "# the years of the time series\n",
    "years = xa.open_dataset(\"../data/data_downsampled_binned.nc.nc\").time.dt.year\n",
    "\n",
    "# the years in which the winter started\n",
    "onset_indices = np.load(\"../output/onset_indices.npy\")\n",
    "\n",
    "# time series\n",
    "ys = np.load(\"../data/data_downsampled_binned.npy\")"
   ]
  },
  {
   "cell_type": "code",
   "execution_count": 143,
   "outputs": [
    {
     "name": "stderr",
     "output_type": "stream",
     "text": [
      "  0%|                                                                                           | 0/41 [00:00<?, ?it/s]"
     ]
    },
    {
     "name": "stdout",
     "output_type": "stream",
     "text": [
      "Calculating slice 1980-1981 with 13 weeks...\n"
     ]
    },
    {
     "name": "stderr",
     "output_type": "stream",
     "text": [
      "  2%|█▉                                                                              | 1/41 [08:02<5:21:51, 482.79s/it]"
     ]
    },
    {
     "name": "stdout",
     "output_type": "stream",
     "text": [
      "Calculating slice 1981-1982 with 27 weeks...\n"
     ]
    },
    {
     "name": "stderr",
     "output_type": "stream",
     "text": [
      "  5%|███▉                                                                            | 2/41 [16:15<5:17:36, 488.63s/it]"
     ]
    },
    {
     "name": "stdout",
     "output_type": "stream",
     "text": [
      "Calculating slice 1982-1983 with 26 weeks...\n"
     ]
    },
    {
     "name": "stderr",
     "output_type": "stream",
     "text": [
      "  7%|█████▊                                                                          | 3/41 [24:20<5:08:30, 487.12s/it]"
     ]
    },
    {
     "name": "stdout",
     "output_type": "stream",
     "text": [
      "Calculating slice 1983-1984 with 25 weeks...\n"
     ]
    },
    {
     "name": "stderr",
     "output_type": "stream",
     "text": [
      " 10%|███████▊                                                                        | 4/41 [32:08<4:55:36, 479.38s/it]"
     ]
    },
    {
     "name": "stdout",
     "output_type": "stream",
     "text": [
      "Calculating slice 1984-1985 with 26 weeks...\n"
     ]
    },
    {
     "name": "stderr",
     "output_type": "stream",
     "text": [
      " 12%|█████████▊                                                                      | 5/41 [39:36<4:40:54, 468.19s/it]"
     ]
    },
    {
     "name": "stdout",
     "output_type": "stream",
     "text": [
      "Calculating slice 1985-1986 with 26 weeks...\n"
     ]
    },
    {
     "name": "stderr",
     "output_type": "stream",
     "text": [
      " 15%|███████████▋                                                                    | 6/41 [47:02<4:28:45, 460.72s/it]"
     ]
    },
    {
     "name": "stdout",
     "output_type": "stream",
     "text": [
      "Calculating slice 1986-1987 with 26 weeks...\n"
     ]
    },
    {
     "name": "stderr",
     "output_type": "stream",
     "text": [
      " 17%|█████████████▋                                                                  | 7/41 [54:30<4:18:34, 456.32s/it]"
     ]
    },
    {
     "name": "stdout",
     "output_type": "stream",
     "text": [
      "Calculating slice 1987-1988 with 27 weeks...\n"
     ]
    },
    {
     "name": "stderr",
     "output_type": "stream",
     "text": [
      " 20%|███████████████▏                                                              | 8/41 [1:01:58<4:09:35, 453.82s/it]"
     ]
    },
    {
     "name": "stdout",
     "output_type": "stream",
     "text": [
      "Calculating slice 1988-1989 with 26 weeks...\n"
     ]
    },
    {
     "name": "stderr",
     "output_type": "stream",
     "text": [
      " 22%|█████████████████                                                             | 9/41 [1:09:24<4:00:40, 451.28s/it]"
     ]
    },
    {
     "name": "stdout",
     "output_type": "stream",
     "text": [
      "Calculating slice 1989-1990 with 25 weeks...\n"
     ]
    },
    {
     "name": "stderr",
     "output_type": "stream",
     "text": [
      " 24%|██████████████████▊                                                          | 10/41 [1:16:51<3:52:30, 450.01s/it]"
     ]
    },
    {
     "name": "stdout",
     "output_type": "stream",
     "text": [
      "Calculating slice 1990-1991 with 26 weeks...\n"
     ]
    },
    {
     "name": "stderr",
     "output_type": "stream",
     "text": [
      " 27%|████████████████████▋                                                        | 11/41 [1:24:18<3:44:29, 449.00s/it]"
     ]
    },
    {
     "name": "stdout",
     "output_type": "stream",
     "text": [
      "Calculating slice 1991-1992 with 26 weeks...\n"
     ]
    },
    {
     "name": "stderr",
     "output_type": "stream",
     "text": [
      " 29%|██████████████████████▌                                                      | 12/41 [1:31:43<3:36:32, 448.01s/it]"
     ]
    },
    {
     "name": "stdout",
     "output_type": "stream",
     "text": [
      "Calculating slice 1992-1993 with 27 weeks...\n"
     ]
    },
    {
     "name": "stderr",
     "output_type": "stream",
     "text": [
      " 32%|████████████████████████▍                                                    | 13/41 [1:39:13<3:29:14, 448.39s/it]"
     ]
    },
    {
     "name": "stdout",
     "output_type": "stream",
     "text": [
      "Calculating slice 1993-1994 with 26 weeks...\n"
     ]
    },
    {
     "name": "stderr",
     "output_type": "stream",
     "text": [
      " 34%|██████████████████████████▎                                                  | 14/41 [1:46:39<3:21:26, 447.64s/it]"
     ]
    },
    {
     "name": "stdout",
     "output_type": "stream",
     "text": [
      "Calculating slice 1994-1995 with 26 weeks...\n"
     ]
    },
    {
     "name": "stderr",
     "output_type": "stream",
     "text": [
      " 37%|████████████████████████████▏                                                | 15/41 [1:54:06<3:13:55, 447.52s/it]"
     ]
    },
    {
     "name": "stdout",
     "output_type": "stream",
     "text": [
      "Calculating slice 1995-1996 with 26 weeks...\n"
     ]
    },
    {
     "name": "stderr",
     "output_type": "stream",
     "text": [
      " 39%|██████████████████████████████                                               | 16/41 [2:01:33<3:06:23, 447.35s/it]"
     ]
    },
    {
     "name": "stdout",
     "output_type": "stream",
     "text": [
      "Calculating slice 1996-1997 with 26 weeks...\n"
     ]
    },
    {
     "name": "stderr",
     "output_type": "stream",
     "text": [
      " 41%|███████████████████████████████▉                                             | 17/41 [2:08:59<2:58:47, 446.98s/it]"
     ]
    },
    {
     "name": "stdout",
     "output_type": "stream",
     "text": [
      "Calculating slice 1997-1998 with 26 weeks...\n"
     ]
    },
    {
     "name": "stderr",
     "output_type": "stream",
     "text": [
      " 44%|█████████████████████████████████▊                                           | 18/41 [2:16:25<2:51:13, 446.67s/it]"
     ]
    },
    {
     "name": "stdout",
     "output_type": "stream",
     "text": [
      "Calculating slice 1998-1999 with 27 weeks...\n"
     ]
    },
    {
     "name": "stderr",
     "output_type": "stream",
     "text": [
      " 46%|███████████████████████████████████▋                                         | 19/41 [2:23:54<2:44:05, 447.54s/it]"
     ]
    },
    {
     "name": "stdout",
     "output_type": "stream",
     "text": [
      "Calculating slice 1999-2000 with 26 weeks...\n"
     ]
    },
    {
     "name": "stderr",
     "output_type": "stream",
     "text": [
      " 49%|█████████████████████████████████████▌                                       | 20/41 [2:31:20<2:36:27, 447.02s/it]"
     ]
    },
    {
     "name": "stdout",
     "output_type": "stream",
     "text": [
      "Calculating slice 2000-2001 with 25 weeks...\n"
     ]
    },
    {
     "name": "stderr",
     "output_type": "stream",
     "text": [
      " 51%|███████████████████████████████████████▍                                     | 21/41 [2:38:48<2:29:03, 447.16s/it]"
     ]
    },
    {
     "name": "stdout",
     "output_type": "stream",
     "text": [
      "Calculating slice 2001-2002 with 26 weeks...\n"
     ]
    },
    {
     "name": "stderr",
     "output_type": "stream",
     "text": [
      " 54%|█████████████████████████████████████████▎                                   | 22/41 [2:46:14<2:21:33, 447.01s/it]"
     ]
    },
    {
     "name": "stdout",
     "output_type": "stream",
     "text": [
      "Calculating slice 2002-2003 with 26 weeks...\n"
     ]
    },
    {
     "name": "stderr",
     "output_type": "stream",
     "text": [
      " 56%|███████████████████████████████████████████▏                                 | 23/41 [2:53:40<2:13:58, 446.58s/it]"
     ]
    },
    {
     "name": "stdout",
     "output_type": "stream",
     "text": [
      "Calculating slice 2003-2004 with 26 weeks...\n"
     ]
    },
    {
     "name": "stderr",
     "output_type": "stream",
     "text": [
      " 59%|█████████████████████████████████████████████                                | 24/41 [3:01:06<2:06:31, 446.56s/it]"
     ]
    },
    {
     "name": "stdout",
     "output_type": "stream",
     "text": [
      "Calculating slice 2004-2005 with 27 weeks...\n"
     ]
    },
    {
     "name": "stderr",
     "output_type": "stream",
     "text": [
      " 61%|██████████████████████████████████████████████▉                              | 25/41 [3:08:35<1:59:14, 447.16s/it]"
     ]
    },
    {
     "name": "stdout",
     "output_type": "stream",
     "text": [
      "Calculating slice 2005-2006 with 26 weeks...\n"
     ]
    },
    {
     "name": "stderr",
     "output_type": "stream",
     "text": [
      " 63%|████████████████████████████████████████████████▊                            | 26/41 [3:16:02<1:51:45, 447.02s/it]"
     ]
    },
    {
     "name": "stdout",
     "output_type": "stream",
     "text": [
      "Calculating slice 2006-2007 with 25 weeks...\n"
     ]
    },
    {
     "name": "stderr",
     "output_type": "stream",
     "text": [
      " 66%|██████████████████████████████████████████████████▋                          | 27/41 [3:23:30<1:44:25, 447.53s/it]"
     ]
    },
    {
     "name": "stdout",
     "output_type": "stream",
     "text": [
      "Calculating slice 2007-2008 with 26 weeks...\n"
     ]
    },
    {
     "name": "stderr",
     "output_type": "stream",
     "text": [
      " 68%|████████████████████████████████████████████████████▌                        | 28/41 [3:30:58<1:36:56, 447.45s/it]"
     ]
    },
    {
     "name": "stdout",
     "output_type": "stream",
     "text": [
      "Calculating slice 2008-2009 with 26 weeks...\n"
     ]
    },
    {
     "name": "stderr",
     "output_type": "stream",
     "text": [
      " 71%|██████████████████████████████████████████████████████▍                      | 29/41 [3:38:25<1:29:28, 447.34s/it]"
     ]
    },
    {
     "name": "stdout",
     "output_type": "stream",
     "text": [
      "Calculating slice 2009-2010 with 27 weeks...\n"
     ]
    },
    {
     "name": "stderr",
     "output_type": "stream",
     "text": [
      " 73%|████████████████████████████████████████████████████████▎                    | 30/41 [3:45:51<1:21:57, 447.08s/it]"
     ]
    },
    {
     "name": "stdout",
     "output_type": "stream",
     "text": [
      "Calculating slice 2010-2011 with 26 weeks...\n"
     ]
    },
    {
     "name": "stderr",
     "output_type": "stream",
     "text": [
      " 76%|██████████████████████████████████████████████████████████▏                  | 31/41 [3:53:12<1:14:13, 445.32s/it]"
     ]
    },
    {
     "name": "stdout",
     "output_type": "stream",
     "text": [
      "Calculating slice 2011-2012 with 25 weeks...\n"
     ]
    },
    {
     "name": "stderr",
     "output_type": "stream",
     "text": [
      " 78%|████████████████████████████████████████████████████████████                 | 32/41 [4:00:38<1:06:48, 445.39s/it]"
     ]
    },
    {
     "name": "stdout",
     "output_type": "stream",
     "text": [
      "Calculating slice 2012-2013 with 26 weeks...\n"
     ]
    },
    {
     "name": "stderr",
     "output_type": "stream",
     "text": [
      " 80%|███████████████████████████████████████████████████████████████▌               | 33/41 [4:08:01<59:16, 444.53s/it]"
     ]
    },
    {
     "name": "stdout",
     "output_type": "stream",
     "text": [
      "Calculating slice 2013-2014 with 26 weeks...\n"
     ]
    },
    {
     "name": "stderr",
     "output_type": "stream",
     "text": [
      " 83%|█████████████████████████████████████████████████████████████████▌             | 34/41 [4:15:23<51:47, 443.90s/it]"
     ]
    },
    {
     "name": "stdout",
     "output_type": "stream",
     "text": [
      "Calculating slice 2014-2015 with 26 weeks...\n"
     ]
    },
    {
     "name": "stderr",
     "output_type": "stream",
     "text": [
      " 85%|███████████████████████████████████████████████████████████████████▍           | 35/41 [4:22:46<44:21, 443.54s/it]"
     ]
    },
    {
     "name": "stdout",
     "output_type": "stream",
     "text": [
      "Calculating slice 2015-2016 with 27 weeks...\n"
     ]
    },
    {
     "name": "stderr",
     "output_type": "stream",
     "text": [
      " 88%|█████████████████████████████████████████████████████████████████████▎         | 36/41 [4:30:12<37:01, 444.35s/it]"
     ]
    },
    {
     "name": "stdout",
     "output_type": "stream",
     "text": [
      "Calculating slice 2016-2017 with 26 weeks...\n"
     ]
    },
    {
     "name": "stderr",
     "output_type": "stream",
     "text": [
      " 90%|███████████████████████████████████████████████████████████████████████▎       | 37/41 [4:37:40<29:42, 445.57s/it]"
     ]
    },
    {
     "name": "stdout",
     "output_type": "stream",
     "text": [
      "Calculating slice 2017-2018 with 25 weeks...\n"
     ]
    },
    {
     "name": "stderr",
     "output_type": "stream",
     "text": [
      " 93%|█████████████████████████████████████████████████████████████████████████▏     | 38/41 [4:45:03<22:14, 444.74s/it]"
     ]
    },
    {
     "name": "stdout",
     "output_type": "stream",
     "text": [
      "Calculating slice 2018-2019 with 26 weeks...\n"
     ]
    },
    {
     "name": "stderr",
     "output_type": "stream",
     "text": [
      " 95%|███████████████████████████████████████████████████████████████████████████▏   | 39/41 [4:52:27<14:48, 444.33s/it]"
     ]
    },
    {
     "name": "stdout",
     "output_type": "stream",
     "text": [
      "Calculating slice 2019-2020 with 26 weeks...\n"
     ]
    },
    {
     "name": "stderr",
     "output_type": "stream",
     "text": [
      " 98%|█████████████████████████████████████████████████████████████████████████████  | 40/41 [4:59:49<07:23, 443.91s/it]"
     ]
    },
    {
     "name": "stdout",
     "output_type": "stream",
     "text": [
      "Calculating slice 2020-2021 with 13 weeks...\n"
     ]
    },
    {
     "name": "stderr",
     "output_type": "stream",
     "text": [
      "100%|███████████████████████████████████████████████████████████████████████████████| 41/41 [5:07:14<00:00, 449.61s/it]\n"
     ]
    }
   ],
   "source": [
    "for start, end in tqdm(zip(onset_indices[:-1], onset_indices[1:]), total=len(onset_indices) - 1):\n",
    "\n",
    "    year_start = years[start] - (start==0)\n",
    "    year_end   = years[end]\n",
    "\n",
    "    print(f\"Calculating slice {year_start}-{year_end} with {end - start} weeks...\")\n",
    "    pearson = pairwise_distances(ys[:,start:end], metric=quasibi.pearson)\n",
    "\n",
    "    quasibi.save_symmat(pearson, f\"../output/dynamic/pearson_1Ywindow_{year_start}{year_end}\")"
   ],
   "metadata": {
    "collapsed": false
   }
  },
  {
   "cell_type": "code",
   "execution_count": null,
   "id": "9e248716-3ce3-4acd-891f-9a3c38a02997",
   "metadata": {},
   "outputs": [],
   "source": []
  }
 ],
 "metadata": {
  "kernelspec": {
   "display_name": "Python 3 (ipykernel)",
   "language": "python",
   "name": "python3"
  },
  "language_info": {
   "codemirror_mode": {
    "name": "ipython",
    "version": 3
   },
   "file_extension": ".py",
   "mimetype": "text/x-python",
   "name": "python",
   "nbconvert_exporter": "python",
   "pygments_lexer": "ipython3",
   "version": "3.10.9"
  }
 },
 "nbformat": 4,
 "nbformat_minor": 5
}
